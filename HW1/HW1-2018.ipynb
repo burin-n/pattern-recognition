{
 "cells": [
  {
   "cell_type": "code",
   "execution_count": null,
   "metadata": {},
   "outputs": [],
   "source": []
  },
  {
   "cell_type": "code",
   "execution_count": 3,
   "metadata": {},
   "outputs": [],
   "source": [
    "import numpy as np\n",
    "import pandas as pd\n",
    "import math\n",
    "import matplotlib.pyplot as plt\n",
    "from IPython.display import clear_output\n",
    "%matplotlib inline"
   ]
  },
  {
   "cell_type": "code",
   "execution_count": 14,
   "metadata": {},
   "outputs": [],
   "source": [
    "plt.rcParams['figure.figsize'] = [10, 5]"
   ]
  },
  {
   "cell_type": "markdown",
   "metadata": {},
   "source": [
    "# K MEAN"
   ]
  },
  {
   "cell_type": "code",
   "execution_count": 59,
   "metadata": {},
   "outputs": [],
   "source": [
    "inf = 1e9\n",
    "class K_mean():\n",
    "    def __init__(self):\n",
    "        # INITIALIZATION\n",
    "        self.points = [\n",
    "            (1,2),\n",
    "            (3,3),\n",
    "            (2,2),\n",
    "            (8,8),\n",
    "            (6,6),\n",
    "            (7,7),\n",
    "            (-3,-3),\n",
    "            (-2,-4),\n",
    "            (-7,-7)\n",
    "        ]\n",
    "\n",
    "        \n",
    "    def dist(self, p1, p2):\n",
    "        d = 0\n",
    "        for i in range(len(p1)):\n",
    "            d += (p1[i] - p2[i])**2\n",
    "        return d**(0.5)\n",
    "\n",
    "    \n",
    "    def mean(self, points):\n",
    "        x,y = [0,0]\n",
    "        for p in points:\n",
    "            x += p[0]\n",
    "            y += p[1]\n",
    "        x /= len(points)\n",
    "        y /= len(points)\n",
    "        return (x,y)\n",
    "\n",
    "    \n",
    "    def update(self, points):\n",
    "        new_centroids = []\n",
    "        for ps in points:\n",
    "            new_centroids.append(self.mean(ps))\n",
    "\n",
    "        return new_centroids\n",
    "    \n",
    "    \n",
    "    def assign(self, centroids, points): \n",
    "        assigned_points = [ [] for i in range(len(centroids)) ]\n",
    "        for p in points:\n",
    "            min_dist = inf\n",
    "            index = -1\n",
    "            for i in range(len(centroids)):\n",
    "                d = self.dist(centroids[i],p)\n",
    "                if(d < min_dist):\n",
    "                    index = i\n",
    "                    min_dist = d\n",
    "            assigned_points[index].append(p)\n",
    "        return assigned_points\n",
    "    \n",
    "    \n",
    "    def diff(self, c_old, c_new):\n",
    "        ans = -inf\n",
    "        for i in range(len(c_old)):\n",
    "            d = abs(c_old[i][0] - c_new[i][0]) + abs(c_old[i][1] - c_new[i][1])\n",
    "            ans = max(ans , d)\n",
    "        return ans\n",
    "\n",
    "    \n",
    "    def scoring(self, centroids, points):\n",
    "        d = 0\n",
    "        out_d = 0\n",
    "        for i, centroid in enumerate(centroids):\n",
    "            for point in points[i]:\n",
    "                d += kmean.dist(point, centroid) / len(points[i])\n",
    "            if(i > 0):\n",
    "                out_d += kmean.dist(centroids[i-1], centroids[i])\n",
    "        return d, out_d / len(centroids)\n",
    "    \n",
    "    \n",
    "    def fit(self, starting_points):\n",
    "        centroids = starting_points\n",
    "        epsilon = 1e-6\n",
    "        changes = 10\n",
    "        while( changes > epsilon ):\n",
    "            assigned_points = self.assign(centroids,self.points)\n",
    "            new_centroids = self.update(assigned_points)\n",
    "            changes = self.diff(centroids, new_centroids)\n",
    "            centroids = new_centroids\n",
    "\n",
    "        return centroids, self.assign(centroids, self.points)"
   ]
  },
  {
   "cell_type": "code",
   "execution_count": 60,
   "metadata": {},
   "outputs": [],
   "source": [
    "kmean = K_mean()\n",
    "starting_points = [(3,3), (2,2), (-3,3)]\n",
    "starting_points_2 = [(-3,-3), (2,2), (-7,-7)]"
   ]
  },
  {
   "cell_type": "markdown",
   "metadata": {},
   "source": [
    "### T4"
   ]
  },
  {
   "cell_type": "code",
   "execution_count": 61,
   "metadata": {},
   "outputs": [
    {
     "name": "stdout",
     "output_type": "stream",
     "text": [
      "centroids (7.0, 7.0)\n",
      "\t points: [(8, 8), (6, 6), (7, 7)]\n",
      "centroids (2.0, 2.3333333333333335)\n",
      "\t points: [(1, 2), (3, 3), (2, 2)]\n",
      "centroids (-4.0, -4.666666666666667)\n",
      "\t points: [(-3, -3), (-2, -4), (-7, -7)]\n",
      "score: (4.423374641782709, 5.352990877840206)\n"
     ]
    }
   ],
   "source": [
    "centroids, points = kmean.fit(starting_points)\n",
    "for i in range(len(centroids)):\n",
    "    print (\"centroids {}\".format(centroids[i]))\n",
    "    print (\"\\t points: {}\".format(points[i]))\n",
    "print (\"score:\" ,kmean.scoring(centroids, points))"
   ]
  },
  {
   "cell_type": "markdown",
   "metadata": {},
   "source": [
    "### T5."
   ]
  },
  {
   "cell_type": "code",
   "execution_count": 62,
   "metadata": {},
   "outputs": [
    {
     "name": "stdout",
     "output_type": "stream",
     "text": [
      "centroids (-2.5, -3.5)\n",
      "\t points: [(-3, -3), (-2, -4)]\n",
      "centroids (4.5, 4.666666666666667)\n",
      "\t points: [(1, 2), (3, 3), (2, 2), (8, 8), (6, 6), (7, 7)]\n",
      "centroids (-7.0, -7.0)\n",
      "\t points: [(-7, -7)]\n",
      "score: (4.133383806711511, 9.045955405702337)\n"
     ]
    }
   ],
   "source": [
    "centroids, points = kmean.fit(starting_points_2)\n",
    "for i in range(len(centroids)):\n",
    "    print (\"centroids {}\".format(centroids[i]))\n",
    "    print (\"\\t points: {}\".format(points[i]))\n",
    "print (\"score:\" ,kmean.scoring(centroids, points))"
   ]
  },
  {
   "cell_type": "code",
   "execution_count": 63,
   "metadata": {},
   "outputs": [
    {
     "data": {
      "text/html": [
       "<style>\n",
       "table {float:left}\n",
       "</style>"
      ],
      "text/plain": [
       "<IPython.core.display.HTML object>"
      ]
     },
     "metadata": {},
     "output_type": "display_data"
    }
   ],
   "source": [
    "%%html\n",
    "<style>\n",
    "table {float:left}\n",
    "</style>"
   ]
  },
  {
   "cell_type": "markdown",
   "metadata": {},
   "source": [
    "## T6.\n",
    "\n",
    "|initialize|inside-distance|inter-distance|\n",
    "|----------|---------------|--------------|\n",
    "|First     |4.423374641782709|5.352990877840206|\n",
    "|Second    |4.133383806711511|9.045955405702337|"
   ]
  },
  {
   "cell_type": "markdown",
   "metadata": {},
   "source": [
    "If evaluatation criteria were inside-cluster distance and inter-cluster distance, the later initialization was better."
   ]
  },
  {
   "cell_type": "markdown",
   "metadata": {},
   "source": [
    "## OT1.\n",
    "Four clusters may be the best in this situation.\n",
    "It will maximize inter-cluster distance while keeping inside-cluster distance minimum."
   ]
  },
  {
   "cell_type": "markdown",
   "metadata": {},
   "source": [
    "# My heart will go on"
   ]
  },
  {
   "cell_type": "code",
   "execution_count": 4,
   "metadata": {},
   "outputs": [],
   "source": [
    "### READ DATA\n",
    "train_url = \"http://s3.amazonaws.com/assets.datacamp.com/course/Kaggle/train.csv\"\n",
    "train = pd.read_csv(train_url) #training set\n",
    "test_url = \"http://s3.amazonaws.com/assets.datacamp.com/course/Kaggle/test.csv\"\n",
    "test = pd.read_csv(test_url) #test set"
   ]
  },
  {
   "cell_type": "code",
   "execution_count": 4,
   "metadata": {},
   "outputs": [
    {
     "data": {
      "text/html": [
       "<div>\n",
       "<style scoped>\n",
       "    .dataframe tbody tr th:only-of-type {\n",
       "        vertical-align: middle;\n",
       "    }\n",
       "\n",
       "    .dataframe tbody tr th {\n",
       "        vertical-align: top;\n",
       "    }\n",
       "\n",
       "    .dataframe thead th {\n",
       "        text-align: right;\n",
       "    }\n",
       "</style>\n",
       "<table border=\"1\" class=\"dataframe\">\n",
       "  <thead>\n",
       "    <tr style=\"text-align: right;\">\n",
       "      <th></th>\n",
       "      <th>PassengerId</th>\n",
       "      <th>Survived</th>\n",
       "      <th>Pclass</th>\n",
       "      <th>Name</th>\n",
       "      <th>Sex</th>\n",
       "      <th>Age</th>\n",
       "      <th>SibSp</th>\n",
       "      <th>Parch</th>\n",
       "      <th>Ticket</th>\n",
       "      <th>Fare</th>\n",
       "      <th>Cabin</th>\n",
       "      <th>Embarked</th>\n",
       "    </tr>\n",
       "  </thead>\n",
       "  <tbody>\n",
       "    <tr>\n",
       "      <th>0</th>\n",
       "      <td>1</td>\n",
       "      <td>0</td>\n",
       "      <td>3</td>\n",
       "      <td>Braund, Mr. Owen Harris</td>\n",
       "      <td>male</td>\n",
       "      <td>22.0</td>\n",
       "      <td>1</td>\n",
       "      <td>0</td>\n",
       "      <td>A/5 21171</td>\n",
       "      <td>7.2500</td>\n",
       "      <td>NaN</td>\n",
       "      <td>S</td>\n",
       "    </tr>\n",
       "    <tr>\n",
       "      <th>1</th>\n",
       "      <td>2</td>\n",
       "      <td>1</td>\n",
       "      <td>1</td>\n",
       "      <td>Cumings, Mrs. John Bradley (Florence Briggs Th...</td>\n",
       "      <td>female</td>\n",
       "      <td>38.0</td>\n",
       "      <td>1</td>\n",
       "      <td>0</td>\n",
       "      <td>PC 17599</td>\n",
       "      <td>71.2833</td>\n",
       "      <td>C85</td>\n",
       "      <td>C</td>\n",
       "    </tr>\n",
       "    <tr>\n",
       "      <th>2</th>\n",
       "      <td>3</td>\n",
       "      <td>1</td>\n",
       "      <td>3</td>\n",
       "      <td>Heikkinen, Miss. Laina</td>\n",
       "      <td>female</td>\n",
       "      <td>26.0</td>\n",
       "      <td>0</td>\n",
       "      <td>0</td>\n",
       "      <td>STON/O2. 3101282</td>\n",
       "      <td>7.9250</td>\n",
       "      <td>NaN</td>\n",
       "      <td>S</td>\n",
       "    </tr>\n",
       "    <tr>\n",
       "      <th>3</th>\n",
       "      <td>4</td>\n",
       "      <td>1</td>\n",
       "      <td>1</td>\n",
       "      <td>Futrelle, Mrs. Jacques Heath (Lily May Peel)</td>\n",
       "      <td>female</td>\n",
       "      <td>35.0</td>\n",
       "      <td>1</td>\n",
       "      <td>0</td>\n",
       "      <td>113803</td>\n",
       "      <td>53.1000</td>\n",
       "      <td>C123</td>\n",
       "      <td>S</td>\n",
       "    </tr>\n",
       "    <tr>\n",
       "      <th>4</th>\n",
       "      <td>5</td>\n",
       "      <td>0</td>\n",
       "      <td>3</td>\n",
       "      <td>Allen, Mr. William Henry</td>\n",
       "      <td>male</td>\n",
       "      <td>35.0</td>\n",
       "      <td>0</td>\n",
       "      <td>0</td>\n",
       "      <td>373450</td>\n",
       "      <td>8.0500</td>\n",
       "      <td>NaN</td>\n",
       "      <td>S</td>\n",
       "    </tr>\n",
       "  </tbody>\n",
       "</table>\n",
       "</div>"
      ],
      "text/plain": [
       "   PassengerId  Survived  Pclass  \\\n",
       "0            1         0       3   \n",
       "1            2         1       1   \n",
       "2            3         1       3   \n",
       "3            4         1       1   \n",
       "4            5         0       3   \n",
       "\n",
       "                                                Name     Sex   Age  SibSp  \\\n",
       "0                            Braund, Mr. Owen Harris    male  22.0      1   \n",
       "1  Cumings, Mrs. John Bradley (Florence Briggs Th...  female  38.0      1   \n",
       "2                             Heikkinen, Miss. Laina  female  26.0      0   \n",
       "3       Futrelle, Mrs. Jacques Heath (Lily May Peel)  female  35.0      1   \n",
       "4                           Allen, Mr. William Henry    male  35.0      0   \n",
       "\n",
       "   Parch            Ticket     Fare Cabin Embarked  \n",
       "0      0         A/5 21171   7.2500   NaN        S  \n",
       "1      0          PC 17599  71.2833   C85        C  \n",
       "2      0  STON/O2. 3101282   7.9250   NaN        S  \n",
       "3      0            113803  53.1000  C123        S  \n",
       "4      0            373450   8.0500   NaN        S  "
      ]
     },
     "execution_count": 4,
     "metadata": {},
     "output_type": "execute_result"
    }
   ],
   "source": [
    "train.head()"
   ]
  },
  {
   "cell_type": "code",
   "execution_count": 5,
   "metadata": {},
   "outputs": [
    {
     "data": {
      "text/html": [
       "<div>\n",
       "<style scoped>\n",
       "    .dataframe tbody tr th:only-of-type {\n",
       "        vertical-align: middle;\n",
       "    }\n",
       "\n",
       "    .dataframe tbody tr th {\n",
       "        vertical-align: top;\n",
       "    }\n",
       "\n",
       "    .dataframe thead th {\n",
       "        text-align: right;\n",
       "    }\n",
       "</style>\n",
       "<table border=\"1\" class=\"dataframe\">\n",
       "  <thead>\n",
       "    <tr style=\"text-align: right;\">\n",
       "      <th></th>\n",
       "      <th>PassengerId</th>\n",
       "      <th>Survived</th>\n",
       "      <th>Pclass</th>\n",
       "      <th>Name</th>\n",
       "      <th>Sex</th>\n",
       "      <th>Age</th>\n",
       "      <th>SibSp</th>\n",
       "      <th>Parch</th>\n",
       "      <th>Ticket</th>\n",
       "      <th>Fare</th>\n",
       "      <th>Cabin</th>\n",
       "      <th>Embarked</th>\n",
       "    </tr>\n",
       "  </thead>\n",
       "  <tbody>\n",
       "    <tr>\n",
       "      <th>886</th>\n",
       "      <td>887</td>\n",
       "      <td>0</td>\n",
       "      <td>2</td>\n",
       "      <td>Montvila, Rev. Juozas</td>\n",
       "      <td>male</td>\n",
       "      <td>27.0</td>\n",
       "      <td>0</td>\n",
       "      <td>0</td>\n",
       "      <td>211536</td>\n",
       "      <td>13.00</td>\n",
       "      <td>NaN</td>\n",
       "      <td>S</td>\n",
       "    </tr>\n",
       "    <tr>\n",
       "      <th>887</th>\n",
       "      <td>888</td>\n",
       "      <td>1</td>\n",
       "      <td>1</td>\n",
       "      <td>Graham, Miss. Margaret Edith</td>\n",
       "      <td>female</td>\n",
       "      <td>19.0</td>\n",
       "      <td>0</td>\n",
       "      <td>0</td>\n",
       "      <td>112053</td>\n",
       "      <td>30.00</td>\n",
       "      <td>B42</td>\n",
       "      <td>S</td>\n",
       "    </tr>\n",
       "    <tr>\n",
       "      <th>888</th>\n",
       "      <td>889</td>\n",
       "      <td>0</td>\n",
       "      <td>3</td>\n",
       "      <td>Johnston, Miss. Catherine Helen \"Carrie\"</td>\n",
       "      <td>female</td>\n",
       "      <td>NaN</td>\n",
       "      <td>1</td>\n",
       "      <td>2</td>\n",
       "      <td>W./C. 6607</td>\n",
       "      <td>23.45</td>\n",
       "      <td>NaN</td>\n",
       "      <td>S</td>\n",
       "    </tr>\n",
       "    <tr>\n",
       "      <th>889</th>\n",
       "      <td>890</td>\n",
       "      <td>1</td>\n",
       "      <td>1</td>\n",
       "      <td>Behr, Mr. Karl Howell</td>\n",
       "      <td>male</td>\n",
       "      <td>26.0</td>\n",
       "      <td>0</td>\n",
       "      <td>0</td>\n",
       "      <td>111369</td>\n",
       "      <td>30.00</td>\n",
       "      <td>C148</td>\n",
       "      <td>C</td>\n",
       "    </tr>\n",
       "    <tr>\n",
       "      <th>890</th>\n",
       "      <td>891</td>\n",
       "      <td>0</td>\n",
       "      <td>3</td>\n",
       "      <td>Dooley, Mr. Patrick</td>\n",
       "      <td>male</td>\n",
       "      <td>32.0</td>\n",
       "      <td>0</td>\n",
       "      <td>0</td>\n",
       "      <td>370376</td>\n",
       "      <td>7.75</td>\n",
       "      <td>NaN</td>\n",
       "      <td>Q</td>\n",
       "    </tr>\n",
       "  </tbody>\n",
       "</table>\n",
       "</div>"
      ],
      "text/plain": [
       "     PassengerId  Survived  Pclass                                      Name  \\\n",
       "886          887         0       2                     Montvila, Rev. Juozas   \n",
       "887          888         1       1              Graham, Miss. Margaret Edith   \n",
       "888          889         0       3  Johnston, Miss. Catherine Helen \"Carrie\"   \n",
       "889          890         1       1                     Behr, Mr. Karl Howell   \n",
       "890          891         0       3                       Dooley, Mr. Patrick   \n",
       "\n",
       "        Sex   Age  SibSp  Parch      Ticket   Fare Cabin Embarked  \n",
       "886    male  27.0      0      0      211536  13.00   NaN        S  \n",
       "887  female  19.0      0      0      112053  30.00   B42        S  \n",
       "888  female   NaN      1      2  W./C. 6607  23.45   NaN        S  \n",
       "889    male  26.0      0      0      111369  30.00  C148        C  \n",
       "890    male  32.0      0      0      370376   7.75   NaN        Q  "
      ]
     },
     "execution_count": 5,
     "metadata": {},
     "output_type": "execute_result"
    }
   ],
   "source": [
    "train.tail()"
   ]
  },
  {
   "cell_type": "markdown",
   "metadata": {},
   "source": [
    "# T7, T8, T9"
   ]
  },
  {
   "cell_type": "code",
   "execution_count": 5,
   "metadata": {},
   "outputs": [],
   "source": [
    "### Handle missing value\n",
    "# T7\n",
    "train[\"Age\"] = train[\"Age\"].fillna(train[\"Age\"].median())\n",
    "\n",
    "# T8\n",
    "train.loc[train[\"Embarked\"] == \"S\", \"Embarked\"] = 0\n",
    "train.loc[train[\"Embarked\"] == \"C\", \"Embarked\"] = 1\n",
    "train.loc[train[\"Embarked\"] == \"Q\", \"Embarked\"] = 2\n",
    "train[\"Embarked\"] = train[\"Embarked\"].fillna((train[\"Embarked\"].mode())[0])\n",
    "\n",
    "train.loc[train[\"Sex\"] == \"male\", \"Sex\"] = 0\n",
    "train.loc[train[\"Sex\"] == \"female\", \"Sex\"] = 1\n",
    "train[\"Sex\"] = train[\"Sex\"].fillna(train[\"Sex\"].mode())\n",
    "train[\"Pclass\"] = train[\"Pclass\"].fillna((train[\"Pclass\"].mode())[0])\n",
    "\n",
    "test[\"Age\"] = test[\"Age\"].fillna(test[\"Age\"].median())\n",
    "test.loc[test[\"Embarked\"] == \"S\", \"Embarked\"] = 0\n",
    "test.loc[test[\"Embarked\"] == \"C\", \"Embarked\"] = 1\n",
    "test.loc[test[\"Embarked\"] == \"Q\", \"Embarked\"] = 2\n",
    "test[\"Embarked\"] = test[\"Embarked\"].fillna((test[\"Embarked\"].mode())[0])\n",
    "\n",
    "test.loc[test[\"Sex\"] == \"male\", \"Sex\"] = 0\n",
    "test.loc[test[\"Sex\"] == \"female\", \"Sex\"] = 1\n",
    "test[\"Sex\"] = test[\"Sex\"].fillna(test[\"Sex\"].mode())\n",
    "test[\"Pclass\"] = test[\"Pclass\"].fillna((test[\"Pclass\"].mode())[0])"
   ]
  },
  {
   "cell_type": "code",
   "execution_count": 6,
   "metadata": {},
   "outputs": [],
   "source": [
    "def sigmoid(Z):\n",
    "    return 1/(1 + np.exp(-Z))\n",
    "\n",
    "\n",
    "def gradient(X, y, theta, alpha):\n",
    "    Z = np.dot(X,theta)\n",
    "    loss = y - sigmoid(Z)\n",
    "    return theta + ( alpha * np.dot(X.T, loss) )\n",
    "\n",
    "\n",
    "def predict(X, theta, threshold):\n",
    "    Z = np.dot(X,theta)\n",
    "    pred = sigmoid(Z)\n",
    "    pred[pred < threshold] = 0\n",
    "    pred[pred >= threshold] = 1\n",
    "    return pred\n",
    "    \n",
    "    \n",
    "def accuracy(pred, label):\n",
    "    tp = np.array( pred == label, dtype=np.int).sum()\n",
    "    return tp / len(label)"
   ]
  },
  {
   "cell_type": "code",
   "execution_count": 7,
   "metadata": {},
   "outputs": [],
   "source": [
    "### Use PClass, Sex, Age,and Embarked as input features.\n",
    "train_data = np.array(train[[\"Pclass\",\"Sex\",\"Age\",\"Embarked\"]].values, dtype=np.float)\n",
    "train_label = np.array(train[[\"Survived\"]].values, dtype=np.float)\n",
    "test_data = np.array(test[[\"Pclass\",\"Sex\",\"Age\",\"Embarked\"]].values, dtype=np.float)\n",
    "steps = 10000\n",
    "alpha = 0.05"
   ]
  },
  {
   "cell_type": "code",
   "execution_count": 29,
   "metadata": {},
   "outputs": [
    {
     "data": {
      "text/plain": [
       "array([], dtype=int64)"
      ]
     },
     "execution_count": 29,
     "metadata": {},
     "output_type": "execute_result"
    }
   ],
   "source": [
    "np.arange(0)"
   ]
  },
  {
   "cell_type": "code",
   "execution_count": 42,
   "metadata": {},
   "outputs": [
    {
     "data": {
      "image/png": "[encoded data removed]",
      "text/plain": [
       "<matplotlib.figure.Figure at 0x7f8b23831978>"
      ]
     },
     "metadata": {},
     "output_type": "display_data"
    },
    {
     "name": "stdout",
     "output_type": "stream",
     "text": [
      "0.813692480359147\n"
     ]
    }
   ],
   "source": [
    "# Training\n",
    "n,m = train_data.shape\n",
    "ones = np.full((n,1), 1., dtype=np.float)\n",
    "X_train = np.concatenate((ones, train_data), axis = 1) \n",
    "best_theta = []\n",
    "best_acc = 0\n",
    "threshold = 0.5\n",
    "\n",
    "epoches = 30000\n",
    "\n",
    "\n",
    "for r in range(1):\n",
    "    theta = np.random.normal(loc=0, scale=1 ,size=(m+1,1))\n",
    "    history = []\n",
    "    for ep in range(epoches):\n",
    "        theta = gradient(X_train, train_label, theta, alpha)\n",
    "        pred = predict(X_train, theta, threshold)\n",
    "        acc = accuracy(pred, train_label)        \n",
    "        if(acc > best_acc):\n",
    "            best_acc = acc\n",
    "            best_theta = theta\n",
    "        if( ep % 1000  == 0):\n",
    "            history.append(acc)\n",
    "            clear_output(wait=True)\n",
    "            plt.plot(history)\n",
    "            plt.show()\n",
    "            plt.pause(0.5)\n",
    "\n",
    "print (best_acc)"
   ]
  },
  {
   "cell_type": "code",
   "execution_count": 43,
   "metadata": {},
   "outputs": [
    {
     "name": "stderr",
     "output_type": "stream",
     "text": [
      "/home/burin/.env/lib/python3.5/site-packages/ipykernel_launcher.py:2: RuntimeWarning: overflow encountered in exp\n",
      "  \n"
     ]
    }
   ],
   "source": [
    "### Test\n",
    "m = test_data.shape[0]\n",
    "ones = np.full((m,1), 1., dtype=np.float)\n",
    "X_test = np.concatenate((ones, test_data), axis = 1) \n",
    "threshold = 0.5\n",
    "Z = np.dot(X_test,best_theta)\n",
    "pred = np.round(sigmoid(Z))\n",
    "df = pd.DataFrame(test[\"PassengerId\"])\n",
    "df2 = pd.DataFrame(pred, columns=[\"Survived\"], dtype=np.int)\n",
    "out = df.join(df2)\n",
    "out.to_csv(\"pred.csv\", index=False)"
   ]
  },
  {
   "cell_type": "markdown",
   "metadata": {},
   "source": [
    "# T10"
   ]
  },
  {
   "cell_type": "markdown",
   "metadata": {},
   "source": [
    "![title](score.png)"
   ]
  }
 ],
 "metadata": {
  "kernelspec": {
   "display_name": "Python 3",
   "language": "python",
   "name": "python3"
  },
  "language_info": {
   "codemirror_mode": {
    "name": "ipython",
    "version": 3
   },
   "file_extension": ".py",
   "mimetype": "text/x-python",
   "name": "python",
   "nbconvert_exporter": "python",
   "pygments_lexer": "ipython3",
   "version": "3.5.2"
  }
 },
 "nbformat": 4,
 "nbformat_minor": 2
}
