{
 "cells": [
  {
   "cell_type": "code",
   "execution_count": 66,
   "metadata": {
    "collapsed": true
   },
   "outputs": [],
   "source": [
    "# INITIALIZATION\n",
    "points = [\n",
    "    (1,2),\n",
    "    (3,3),\n",
    "    (2,2),\n",
    "    (8,8),\n",
    "    (6,6),\n",
    "    (7,7),\n",
    "    (-3,-3),\n",
    "    (-2,-4),\n",
    "    (-7,-7)\n",
    "]\n",
    "inf = 1e9\n",
    "#starting_points = [(3,3), (2,2), (-3,3)]\n",
    "starting_points = [(-3,-3), (2,2), (-7,-7)]"
   ]
  },
  {
   "cell_type": "code",
   "execution_count": 57,
   "metadata": {
    "collapsed": true
   },
   "outputs": [],
   "source": [
    "def dist(p1,p2):\n",
    "    d = 0\n",
    "    for i in range(len(p1)):\n",
    "        d += (p1[i] - p2[i])**2\n",
    "    return d**(0.5)"
   ]
  },
  {
   "cell_type": "code",
   "execution_count": 58,
   "metadata": {
    "collapsed": true
   },
   "outputs": [],
   "source": [
    "def mean(points):\n",
    "    x,y = [0,0]\n",
    "    for p in points:\n",
    "        x += p[0]\n",
    "        y += p[1]\n",
    "    x /= len(points)\n",
    "    y /= len(points)\n",
    "    return (x,y)"
   ]
  },
  {
   "cell_type": "code",
   "execution_count": 59,
   "metadata": {
    "collapsed": true
   },
   "outputs": [],
   "source": [
    "def assign(centroids, points): \n",
    "    \n",
    "    assigned_points = [ [] for i in range(len(centroids)) ]\n",
    "    \n",
    "    for p in points:\n",
    "        min_dist = inf\n",
    "        index = -1\n",
    "        for i in range(len(centroids)):\n",
    "            d = dist(centroids[i],p)\n",
    "            if(d < min_dist):\n",
    "                index = i\n",
    "                min_dist = d\n",
    "        assigned_points[index].append(p)\n",
    "    \n",
    "    return assigned_points"
   ]
  },
  {
   "cell_type": "code",
   "execution_count": 60,
   "metadata": {
    "collapsed": true
   },
   "outputs": [],
   "source": [
    "def update(points):\n",
    "    new_centroids = []\n",
    "    for ps in points:\n",
    "        new_centroids.append(mean(ps))\n",
    "    \n",
    "    return new_centroids"
   ]
  },
  {
   "cell_type": "code",
   "execution_count": 61,
   "metadata": {
    "collapsed": true
   },
   "outputs": [],
   "source": [
    "def diff(c_old, c_new):\n",
    "    ans = -inf\n",
    "    for i in range(len(c_old)):\n",
    "        d = abs(c_old[i][0] - c_new[i][0]) + abs(c_old[i][1] - c_new[i][1])\n",
    "        ans = max(ans , d)\n",
    "    return ans"
   ]
  },
  {
   "cell_type": "code",
   "execution_count": 67,
   "metadata": {},
   "outputs": [
    {
     "name": "stdout",
     "output_type": "stream",
     "text": [
      "(-2.5, -3.5)\n",
      "[(-3, -3), (-2, -4)]\n",
      "(4.5, 4.666666666666667)\n",
      "[(1, 2), (3, 3), (2, 2), (8, 8), (6, 6), (7, 7)]\n",
      "(-7.0, -7.0)\n",
      "[(-7, -7)]\n"
     ]
    }
   ],
   "source": [
    "# MAIN\n",
    "\n",
    "centroids = starting_points\n",
    "epsilon = 1e-6\n",
    "changes = 10\n",
    "while( changes > epsilon ):\n",
    "    assigned_points = assign(centroids,points)\n",
    "    new_centroids = update(assigned_points)\n",
    "    changes = diff(centroids, new_centroids)\n",
    "    centroids = new_centroids\n",
    "\n",
    "ans = assign(centroids,points)\n",
    "for i in range(len(ans)):\n",
    "    print(centroids[i])\n",
    "    print(ans[i])"
   ]
  },
  {
   "cell_type": "code",
   "execution_count": null,
   "metadata": {
    "collapsed": true
   },
   "outputs": [],
   "source": []
  }
 ],
 "metadata": {
  "kernelspec": {
   "display_name": "Python 3",
   "language": "python",
   "name": "python3"
  },
  "language_info": {
   "codemirror_mode": {
    "name": "ipython",
    "version": 3
   },
   "file_extension": ".py",
   "mimetype": "text/x-python",
   "name": "python",
   "nbconvert_exporter": "python",
   "pygments_lexer": "ipython3",
   "version": "3.6.2"
  }
 },
 "nbformat": 4,
 "nbformat_minor": 2
}
